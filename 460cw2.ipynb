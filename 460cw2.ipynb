{
  "nbformat": 4,
  "nbformat_minor": 0,
  "metadata": {
    "colab": {
      "name": "460cw2.ipynb",
      "version": "0.3.2",
      "provenance": [],
      "collapsed_sections": [],
      "include_colab_link": true
    },
    "kernelspec": {
      "name": "python3",
      "display_name": "Python 3"
    },
    "accelerator": "GPU"
  },
  "cells": [
    {
      "cell_type": "markdown",
      "metadata": {
        "id": "view-in-github",
        "colab_type": "text"
      },
      "source": [
        "<a href=\"https://colab.research.google.com/github/ZHONGCHUYUN/Deep_learning_cw/blob/master/460cw2.ipynb\" target=\"_parent\"><img src=\"https://colab.research.google.com/assets/colab-badge.svg\" alt=\"Open In Colab\"/></a>"
      ]
    },
    {
      "metadata": {
        "id": "QSOo2x0z2RK7",
        "colab_type": "text"
      },
      "cell_type": "markdown",
      "source": [
        "# Coursework2: Convolutional Neural Networks "
      ]
    },
    {
      "metadata": {
        "id": "_gCOCiev2RLB",
        "colab_type": "text"
      },
      "cell_type": "markdown",
      "source": [
        "## instructions"
      ]
    },
    {
      "metadata": {
        "id": "6EmANXD12RLG",
        "colab_type": "text"
      },
      "cell_type": "markdown",
      "source": [
        "Please submit a version of this notebook containing your answers **together with your trained model** on CATe as CW2.zip. Write your answers in the cells below each question.\n",
        "\n",
        "A PDF version of this notebook is also provided in case the figures do not render correctly.\n",
        "\n",
        "**The deadline for submission is 19:00, Thu 14th February, 2019**"
      ]
    },
    {
      "metadata": {
        "id": "YofcaVy82RLK",
        "colab_type": "text"
      },
      "cell_type": "markdown",
      "source": [
        "### Setting up working environment "
      ]
    },
    {
      "metadata": {
        "id": "3qegujdS2RLP",
        "colab_type": "text"
      },
      "cell_type": "markdown",
      "source": [
        "For this coursework you will need to train a large network, therefore we recommend you work with Google Colaboratory, which provides free GPU time. You will need a Google account to do so. \n",
        "\n",
        "Please log in to your account and go to the following page: https://colab.research.google.com. Then upload this notebook.\n",
        "\n",
        "For GPU support, go to \"Edit\" -> \"Notebook Settings\", and select \"Hardware accelerator\" as \"GPU\".\n",
        "\n",
        "You will need to install pytorch by running the following cell:"
      ]
    },
    {
      "metadata": {
        "id": "78AdiVWx2RLT",
        "colab_type": "code",
        "outputId": "3307c899-3968-4bc7-cc4d-bfa9e024de37",
        "colab": {
          "base_uri": "https://localhost:8080/",
          "height": 133
        }
      },
      "cell_type": "code",
      "source": [
        "!pip install torch torchvision"
      ],
      "execution_count": 2,
      "outputs": [
        {
          "output_type": "stream",
          "text": [
            "Requirement already satisfied: torch in /usr/local/lib/python3.6/dist-packages (1.0.0)\n",
            "Requirement already satisfied: torchvision in /usr/local/lib/python3.6/dist-packages (0.2.1)\n",
            "Requirement already satisfied: pillow>=4.1.1 in /usr/local/lib/python3.6/dist-packages (from torchvision) (5.4.1)\n",
            "Requirement already satisfied: six in /usr/local/lib/python3.6/dist-packages (from torchvision) (1.11.0)\n",
            "Requirement already satisfied: numpy in /usr/local/lib/python3.6/dist-packages (from torchvision) (1.14.6)\n"
          ],
          "name": "stdout"
        }
      ]
    },
    {
      "metadata": {
        "id": "VGmoA6JR2RLd",
        "colab_type": "text"
      },
      "cell_type": "markdown",
      "source": [
        "## Introduction"
      ]
    },
    {
      "metadata": {
        "id": "Z0siCEw12RLf",
        "colab_type": "text"
      },
      "cell_type": "markdown",
      "source": [
        "For this coursework you will implement one of the most commonly used model for image recognition tasks, the Residual Network. The architecture is introduced in 2015 by Kaiming He, et al. in the paper [\"Deep residual learning for image recognition\"](https://www.cv-foundation.org/openaccess/content_cvpr_2016/papers/He_Deep_Residual_Learning_CVPR_2016_paper.pdf). \n",
        "<br>\n",
        "\n",
        "In a residual network, each block contains some convolutional layers, plus \"skip\" connections, which allow the activations to by pass a layer, and then be summed up with the activations of the skipped layer. The image below illustrates a building block in residual networks."
      ]
    },
    {
      "metadata": {
        "id": "Tz-2i06y2RLi",
        "colab_type": "text"
      },
      "cell_type": "markdown",
      "source": [
        "![resnet-block](utils/resnet-block.png)"
      ]
    },
    {
      "metadata": {
        "id": "a4AJK5Qc2RLk",
        "colab_type": "text"
      },
      "cell_type": "markdown",
      "source": [
        "Depending on the number of building blocks, resnets can have different architectures, for example ResNet-50, ResNet-101 and etc. Here you are required to build ResNet-18 to perform classification on the CIFAR-10 dataset, therefore your network will have the following architecture:"
      ]
    },
    {
      "metadata": {
        "id": "tynU-j4z2RLn",
        "colab_type": "text"
      },
      "cell_type": "markdown",
      "source": [
        "![resnet](utils/resnet.png)"
      ]
    },
    {
      "metadata": {
        "id": "rTi0I2uF2RLr",
        "colab_type": "text"
      },
      "cell_type": "markdown",
      "source": [
        "## Part 1 (40 points)"
      ]
    },
    {
      "metadata": {
        "id": "04X8vhXr2RLw",
        "colab_type": "text"
      },
      "cell_type": "markdown",
      "source": [
        "In this part, you will use basic pytorch operations to define the 2D convolution and max pooling operation. \n"
      ]
    },
    {
      "metadata": {
        "id": "sxyDdsOb2RLy",
        "colab_type": "text"
      },
      "cell_type": "markdown",
      "source": [
        "### YOUR TASK"
      ]
    },
    {
      "metadata": {
        "id": "jVKQGk3E2RL0",
        "colab_type": "text"
      },
      "cell_type": "markdown",
      "source": [
        "- implement the forward pass for Conv2D and MaxPool2D\n",
        "- You can only fill in the parts which are specified as \"YOUR CODE HERE\"\n",
        "- You are **NOT** allowed to use the torch.nn module and the conv2d/maxpooling functions in torch.nn.functional"
      ]
    },
    {
      "metadata": {
        "colab_type": "code",
        "id": "K0JLAagD6X4z",
        "colab": {}
      },
      "cell_type": "code",
      "source": [
        "import torch\n",
        "import torch.nn as nn\n",
        "import torch.nn.functional as F"
      ],
      "execution_count": 0,
      "outputs": []
    },
    {
      "metadata": {
        "id": "-PrR3_PS2RL8",
        "colab_type": "code",
        "colab": {
          "base_uri": "https://localhost:8080/",
          "height": 1207
        },
        "outputId": "fe3b25e4-5732-4039-9e77-f1487e9d02b3"
      },
      "cell_type": "code",
      "source": [
        "class Conv2D(nn.Module):\n",
        "    \n",
        "    def __init__(self, inchannel, outchannel, kernel_size, stride, padding, bias = True):\n",
        "        \n",
        "        super(Conv2D, self).__init__()\n",
        "        \n",
        "        self.inchannel = inchannel\n",
        "        self.outchannel = outchannel\n",
        "        self.kernel_size = kernel_size\n",
        "        self.stride = stride\n",
        "        self.padding = padding\n",
        "        \n",
        "        self.weights = nn.Parameter(torch.Tensor(outchannel, inchannel, \n",
        "                                                 kernel_size, kernel_size))\n",
        "        self.weights.data.normal_(-0.1, 0.1)\n",
        "        \n",
        "        if bias:\n",
        "            self.bias = nn.Parameter(torch.Tensor(outchannel, ))\n",
        "            self.bias.data.normal_(-0.1, 0.1)\n",
        "        else:\n",
        "            self.bias = None\n",
        "            \n",
        "        \n",
        "    def forward(self, x):\n",
        "        \n",
        "        ##############################################################\n",
        "        #                       YOUR CODE HERE                       #       \n",
        "        ##############################################################\n",
        "        batch_size = x.shape[0]\n",
        "        input_width = x.shape[2]\n",
        "        input_length = x.shape[3]\n",
        "\n",
        "        output_width = (input_width+2*self.padding-self.kernel_size)//self.stride+1\n",
        "        output_length = (input_length+2*self.padding-self.kernel_size)//self.stride+1\n",
        "        \n",
        "        input_unf = torch.nn.functional.unfold(x, kernel_size=self.kernel_size, padding = self.padding, stride = self.stride)\n",
        "        if self.bias:\n",
        "#           output_unf = input_unf.transpose(1,2).matmul(self.weights.view(self.weights.size(0),-1).t()).transpose(1,2)+self.bias\n",
        "          output_unf = input_unf.transpose(1,2).matmul(self.weights.view(self.weights.size(0),-1).t()).transpose(1,2)\n",
        "          print(self.bias.shape)\n",
        "        else:\n",
        "          output_unf = (input_unf.transpose(1,2).matmul(self.weights.view(self.weights.size(0),-1).t()).transpose(1,2))\n",
        "        print(output_unf.shape)\n",
        "        \n",
        "        \n",
        "        output = out_unf.view(batch_size, self.outchannel, output_width, output_length)\n",
        "        \n",
        "\n",
        "        ##############################################################\n",
        "        #                       END OF YOUR CODE                     #\n",
        "        ##############################################################\n",
        "        \n",
        "\n",
        "        return output\n",
        "\n",
        "# Convolution is equivalent with Unfold + Matrix Multiplication + Fold (or view to output shape)\n",
        "inp = torch.randn(1, 3, 10, 12)\n",
        "print(inp)\n",
        "w = torch.randn(2, 3, 4, 5)\n",
        "inp_unf = torch.nn.functional.unfold(inp, (4, 5))\n",
        "print(inp_unf)\n",
        "print(inp_unf.shape)\n",
        "out_unf = inp_unf.transpose(1, 2).matmul(w.view(w.size(0), -1).t()).transpose(1, 2)\n",
        "out = torch.nn.functional.fold(out_unf, (7, 8), (1, 1))\n",
        "        # or equivalently (and avoiding a copy),\n",
        "        # out = out_unf.view(1, 2, 7, 8)\n",
        "# print((torch.nn.functional.conv2d(inp, w) - out).abs().max())"
      ],
      "execution_count": 62,
      "outputs": [
        {
          "output_type": "stream",
          "text": [
            "tensor([[[[-1.8791, -0.8294,  1.0356, -0.3880,  1.4125, -0.1298,  0.7218,\n",
            "            1.4783,  0.4967, -1.7502,  1.4090, -1.3069],\n",
            "          [-0.3794, -0.0282,  1.4282,  0.7425,  2.5673,  1.0339,  0.3413,\n",
            "            0.9659,  0.8072, -0.6259, -0.3555, -1.0205],\n",
            "          [-0.1276, -0.7677,  0.3361,  2.0714, -0.4022,  0.2265,  0.5677,\n",
            "            0.1923,  1.0913, -0.6989, -0.8941, -0.1559],\n",
            "          [-0.6880,  0.3013, -0.5030, -1.3854, -0.1255,  1.0240,  0.8203,\n",
            "           -0.6480, -1.1408,  0.9832, -0.2549, -0.5525],\n",
            "          [ 1.9086, -0.1553, -0.8445, -1.0827, -0.0615, -0.7388, -0.3870,\n",
            "            0.0035, -0.3089,  1.1985, -0.4107, -1.4132],\n",
            "          [ 0.1983,  0.7667,  0.4772,  1.6051,  0.0588, -0.7910, -1.5124,\n",
            "            1.0511, -1.1590, -0.0182,  0.6455, -2.4518],\n",
            "          [ 0.2917,  2.0263, -1.0331,  0.5091,  0.7688,  0.4352,  0.0782,\n",
            "           -0.1480, -0.4419,  1.2339,  0.3018, -1.3571],\n",
            "          [-0.4313,  1.5915, -0.1483,  0.3872, -0.7525,  0.6084, -1.2961,\n",
            "           -1.0016,  1.0000,  1.2062,  0.4867,  0.5894],\n",
            "          [ 2.5921,  0.6097, -0.8329, -2.7688, -1.5975, -1.0893,  0.4905,\n",
            "            0.7885,  0.7817,  0.5755,  1.5442, -1.0790],\n",
            "          [-0.3541, -0.1070, -0.3865,  1.0631,  0.5675,  0.9682, -1.4758,\n",
            "            1.2730, -0.2755,  2.1253,  0.4157, -0.6430]],\n",
            "\n",
            "         [[ 0.8948,  0.6462,  0.5126, -0.5396,  1.9934,  0.4176, -0.7548,\n",
            "            1.1225, -0.4028,  0.5016,  0.5430,  1.1224],\n",
            "          [ 0.0895,  0.1589,  0.8030,  1.6152, -1.3858, -1.4135, -1.2968,\n",
            "            0.7807, -1.4744,  1.0657,  0.3697, -1.4248],\n",
            "          [-1.9965, -1.5863,  1.4517, -0.3426, -0.9400, -0.8472,  0.6969,\n",
            "            0.7992,  0.8226, -0.1158, -0.3479, -0.3454],\n",
            "          [ 0.1752, -0.6526, -0.1545, -0.1566,  1.3694, -0.7254,  0.0396,\n",
            "           -1.0062, -0.5856,  0.1890, -0.3480,  1.0220],\n",
            "          [ 0.5851, -0.0493,  0.2142, -0.2018,  1.3968, -1.2697, -1.7535,\n",
            "           -1.2245,  0.8752,  0.4287, -1.1242,  0.8802],\n",
            "          [ 2.1115,  0.0118, -0.2989,  0.2695, -0.1928, -0.1564,  0.5225,\n",
            "            1.1790,  1.7813,  0.7627, -1.9201, -0.5169],\n",
            "          [ 0.5473,  0.6147,  0.8622,  1.2645, -0.7505,  1.0574, -0.3134,\n",
            "            0.2317,  0.6433,  0.6896,  1.3606, -0.8651],\n",
            "          [ 0.7808, -1.9317, -0.7358, -0.3439, -0.3790,  1.0765, -0.8794,\n",
            "            1.6539,  1.1721, -0.1916, -1.2215,  1.0709],\n",
            "          [-0.3431,  0.1995,  1.4098,  1.1433,  0.7275, -1.0707,  0.8147,\n",
            "           -1.0314,  0.7194, -0.3305, -0.9921,  1.0621],\n",
            "          [ 0.6964,  0.3159,  0.8645,  1.0923,  0.4822, -2.0540,  0.0419,\n",
            "           -0.1356, -0.5169,  0.4714, -1.9793, -0.4795]],\n",
            "\n",
            "         [[ 0.2329, -0.1901, -2.3257,  0.1688, -0.0529,  1.1690,  0.8187,\n",
            "           -0.0487,  0.1602, -1.0409,  0.3111,  1.7844],\n",
            "          [-0.3754,  1.2555, -0.1785,  0.8804, -1.6124,  0.5067, -0.1299,\n",
            "           -1.3785, -2.1659,  0.1323,  1.3510,  0.0641],\n",
            "          [ 0.6530,  0.1782, -0.2375, -2.5893,  0.3848,  0.2000,  0.0764,\n",
            "            0.3307, -1.6665,  0.4040, -2.3584,  0.0389],\n",
            "          [ 0.5755,  0.6779,  1.0113, -1.2489, -0.1377, -0.6001, -1.8994,\n",
            "            0.2829,  2.1959, -0.3111, -1.0851,  0.5063],\n",
            "          [ 1.0454,  0.7736, -1.5378, -0.7758,  1.2211,  0.9949, -0.2337,\n",
            "            0.2051,  0.5367, -2.3139,  1.4143, -0.2089],\n",
            "          [ 0.2633,  1.1726,  0.8738, -0.1186, -2.0247, -1.9109,  0.2543,\n",
            "           -0.6937, -0.8266,  1.2750,  0.3091,  0.1183],\n",
            "          [-1.0607,  0.0173,  0.9689, -1.2870, -1.4976,  0.2375, -0.4722,\n",
            "           -0.1272, -0.3991,  0.1469,  0.7080,  0.8739],\n",
            "          [ 0.3238,  1.0257,  1.3309,  0.3519,  1.1364,  1.3520, -1.3547,\n",
            "           -0.4188,  0.7217,  0.9657,  0.1999,  0.5233],\n",
            "          [ 1.0039, -0.4352, -0.2574, -0.5787,  1.1668, -0.2199,  0.3929,\n",
            "           -1.3846, -0.3567,  0.3033,  0.4650, -0.1457],\n",
            "          [ 0.0912, -0.0247,  0.7931,  0.1716, -0.3515,  2.0396,  0.2310,\n",
            "           -0.4211,  0.7504,  0.1336, -0.5579, -0.6241]]]])\n",
            "tensor([[[-1.8791, -0.8294,  1.0356,  ...,  0.4352,  0.0782, -0.1480],\n",
            "         [-0.8294,  1.0356, -0.3880,  ...,  0.0782, -0.1480, -0.4419],\n",
            "         [ 1.0356, -0.3880,  1.4125,  ..., -0.1480, -0.4419,  1.2339],\n",
            "         ...,\n",
            "         [ 1.0113, -1.2489, -0.1377,  ..., -0.4211,  0.7504,  0.1336],\n",
            "         [-1.2489, -0.1377, -0.6001,  ...,  0.7504,  0.1336, -0.5579],\n",
            "         [-0.1377, -0.6001, -1.8994,  ...,  0.1336, -0.5579, -0.6241]]])\n",
            "torch.Size([1, 60, 56])\n"
          ],
          "name": "stdout"
        }
      ]
    },
    {
      "metadata": {
        "id": "wtyowszh2RMC",
        "colab_type": "code",
        "colab": {}
      },
      "cell_type": "code",
      "source": [
        "class MaxPool2D(nn.Module):\n",
        "    \n",
        "    def __init__(self, pooling_size):\n",
        "        # assume pooling_size = kernel_size = stride\n",
        "        \n",
        "        super(MaxPool2D, self).__init__()\n",
        "        \n",
        "        self.pooling_size = pooling_size\n",
        "        \n",
        "\n",
        "    def forward(self, x):\n",
        "        \n",
        "        \n",
        "        ##############################################################\n",
        "        #                       YOUR CODE HERE                       #       \n",
        "        ##############################################################\n",
        "        batch_size = x.shape[0]\n",
        "        channel_size = x.shape[2]\n",
        "        input_width = x.shape[2]\n",
        "        input_length = x.shape[3]\n",
        "        output_width = round((input_width)/self.pooling_size-0.5)\n",
        "        output_length = round((input_length)/self.pooling_size-0.5)\n",
        "        \n",
        "        input_unf = torch.nn.functional.unfold(x, (self.pooling_size, self.pooling_size))\n",
        "        output_unf = max(input_unf.transpose(1,2)).transpose(1,2)\n",
        "        output = out_unf.view(batch_size, channel_size, output_width, output_length)\n",
        "\n",
        "\n",
        "        ##############################################################\n",
        "        #                       END OF YOUR CODE                     #\n",
        "        ##############################################################\n",
        "                \n",
        "        \n",
        "        return output\n",
        "        "
      ],
      "execution_count": 0,
      "outputs": []
    },
    {
      "metadata": {
        "colab_type": "code",
        "id": "R2bBhs3_6X5H",
        "colab": {}
      },
      "cell_type": "code",
      "source": [
        "# define resnet building blocks\n",
        "\n",
        "class ResidualBlock(nn.Module): \n",
        "    def __init__(self, inchannel, outchannel, stride=1): \n",
        "        \n",
        "        super(ResidualBlock, self).__init__() \n",
        "        \n",
        "        self.left = nn.Sequential(Conv2D(inchannel, outchannel, kernel_size=3, \n",
        "                                         stride=stride, padding=1, bias=False), \n",
        "                                  nn.BatchNorm2d(outchannel), \n",
        "                                  nn.ReLU(inplace=True), \n",
        "                                  Conv2D(outchannel, outchannel, kernel_size=3, \n",
        "                                         stride=1, padding=1, bias=False), \n",
        "                                  nn.BatchNorm2d(outchannel)) \n",
        "        \n",
        "        self.shortcut = nn.Sequential() \n",
        "        \n",
        "        if stride != 1 or inchannel != outchannel: \n",
        "            \n",
        "            self.shortcut = nn.Sequential(Conv2D(inchannel, outchannel, \n",
        "                                                 kernel_size=1, stride=stride, \n",
        "                                                 padding = 0, bias=False), \n",
        "                                          nn.BatchNorm2d(outchannel) ) \n",
        "            \n",
        "    def forward(self, x): \n",
        "        \n",
        "        out = self.left(x) \n",
        "        \n",
        "        out += self.shortcut(x) \n",
        "        \n",
        "        out = F.relu(out) \n",
        "        \n",
        "        return out\n"
      ],
      "execution_count": 0,
      "outputs": []
    },
    {
      "metadata": {
        "colab_type": "code",
        "id": "U-Sa0BAw6X5P",
        "colab": {}
      },
      "cell_type": "code",
      "source": [
        "# define resnet\n",
        "\n",
        "class ResNet(nn.Module):\n",
        "    \n",
        "    def __init__(self, ResidualBlock, num_classes = 10):\n",
        "        \n",
        "        super(ResNet, self).__init__()\n",
        "        \n",
        "        self.inchannel = 64\n",
        "        self.conv1 = nn.Sequential(Conv2D(3, 64, kernel_size = 3, stride = 1,\n",
        "                                            padding = 1, bias = False), \n",
        "                                  nn.BatchNorm2d(64), \n",
        "                                  nn.ReLU())\n",
        "        \n",
        "        self.layer1 = self.make_layer(ResidualBlock, 64, 2, stride = 1)\n",
        "        self.layer2 = self.make_layer(ResidualBlock, 128, 2, stride = 2)\n",
        "        self.layer3 = self.make_layer(ResidualBlock, 256, 2, stride = 2)\n",
        "        self.layer4 = self.make_layer(ResidualBlock, 512, 2, stride = 2)\n",
        "        self.maxpool = MaxPool2D(4)\n",
        "        self.fc = nn.Linear(512, num_classes)\n",
        "        \n",
        "    \n",
        "    def make_layer(self, block, channels, num_blocks, stride):\n",
        "        \n",
        "        strides = [stride] + [1] * (num_blocks - 1)\n",
        "        \n",
        "        layers = []\n",
        "        \n",
        "        for stride in strides:\n",
        "            \n",
        "            layers.append(block(self.inchannel, channels, stride))\n",
        "            \n",
        "            self.inchannel = channels\n",
        "            \n",
        "        return nn.Sequential(*layers)\n",
        "    \n",
        "    \n",
        "    def forward(self, x):\n",
        "        \n",
        "        x = self.conv1(x)\n",
        "        \n",
        "        x = self.layer1(x)\n",
        "        x = self.layer2(x)\n",
        "        x = self.layer3(x)\n",
        "        x = self.layer4(x)\n",
        "        \n",
        "        x = self.maxpool(x)\n",
        "        \n",
        "        x = x.view(x.size(0), -1)\n",
        "        \n",
        "        x = self.fc(x)\n",
        "        \n",
        "        return x\n",
        "    \n",
        "    \n",
        "def ResNet18():\n",
        "    return ResNet(ResidualBlock)"
      ],
      "execution_count": 0,
      "outputs": []
    },
    {
      "metadata": {
        "id": "2XbVhfqI2RMQ",
        "colab_type": "text"
      },
      "cell_type": "markdown",
      "source": [
        "## Part 2 (40 points)"
      ]
    },
    {
      "metadata": {
        "id": "SnFPynak2RMS",
        "colab_type": "text"
      },
      "cell_type": "markdown",
      "source": [
        "In this part, you will train the ResNet-18 defined in the previous part on the CIFAR-10 dataset. Code for loading the dataset, training and evaluation are provided. "
      ]
    },
    {
      "metadata": {
        "id": "pZnLfWtz2RMT",
        "colab_type": "text"
      },
      "cell_type": "markdown",
      "source": [
        "### Your Task"
      ]
    },
    {
      "metadata": {
        "id": "t78doYMz2RMV",
        "colab_type": "text"
      },
      "cell_type": "markdown",
      "source": [
        "1. Train your network to achieve the best possible test set accuracy after a maximum of 10 epochs of training.\n",
        "\n",
        "2. You can use techniques such as optimal hyper-parameter searching, data pre-processing\n",
        "\n",
        "3. If necessary, you can also use another optimiser\n",
        "\n",
        "4. **Answer the following question:**\n",
        "Given such a network with a large number of trainable parameters, and a training set of a large number of data, what do you think is the best strategy for hyperparameter searching? "
      ]
    },
    {
      "metadata": {
        "id": "DgF9lp4Z2RMW",
        "colab_type": "text"
      },
      "cell_type": "markdown",
      "source": [
        "**YOUR ANSWER FOR 2.4 HERE**\n",
        "\n",
        "A:"
      ]
    },
    {
      "metadata": {
        "colab_type": "code",
        "id": "jx4EjUPa6X5d",
        "colab": {
          "base_uri": "https://localhost:8080/",
          "height": 68
        },
        "outputId": "6bcd9196-baa7-4b71-93d8-6a054d5a53c1"
      },
      "cell_type": "code",
      "source": [
        "import torch.optim as optim\n",
        "from torch.utils.data import DataLoader\n",
        "from torch.utils.data import sampler\n",
        "\n",
        "import torchvision.datasets as dset\n",
        "\n",
        "import numpy as np\n",
        "\n",
        "import torchvision.transforms as T\n",
        "\n",
        "\n",
        "transform = T.ToTensor()\n",
        "\n",
        "\n",
        "# load data\n",
        "\n",
        "NUM_TRAIN = 49000\n",
        "print_every = 100\n",
        "\n",
        "\n",
        "data_dir = './data'\n",
        "cifar10_train = dset.CIFAR10(data_dir, train=True, download=True, transform=transform)\n",
        "loader_train = DataLoader(cifar10_train, batch_size=64, \n",
        "                          sampler=sampler.SubsetRandomSampler(range(NUM_TRAIN)))\n",
        "\n",
        "cifar10_val = dset.CIFAR10(data_dir, train=True, download=True, transform=transform)\n",
        "loader_val = DataLoader(cifar10_val, batch_size=64, \n",
        "                        sampler=sampler.SubsetRandomSampler(range(NUM_TRAIN, 50000)))\n",
        "\n",
        "cifar10_test = dset.CIFAR10(data_dir, train=False, download=True, transform=transform)\n",
        "loader_test = DataLoader(cifar10_test, batch_size=64)\n",
        "\n",
        "\n",
        "USE_GPU = True\n",
        "dtype = torch.float32 \n",
        "\n",
        "if USE_GPU and torch.cuda.is_available():\n",
        "    device = torch.device('cuda')\n",
        "else:\n",
        "    device = torch.device('cpu')"
      ],
      "execution_count": 66,
      "outputs": [
        {
          "output_type": "stream",
          "text": [
            "Files already downloaded and verified\n",
            "Files already downloaded and verified\n",
            "Files already downloaded and verified\n"
          ],
          "name": "stdout"
        }
      ]
    },
    {
      "metadata": {
        "colab_type": "code",
        "id": "Lcscd7k66X5s",
        "colab": {}
      },
      "cell_type": "code",
      "source": [
        "def check_accuracy(loader, model):\n",
        "    # function for test accuracy on validation and test set\n",
        "    \n",
        "    if loader.dataset.train:\n",
        "        print('Checking accuracy on validation set')\n",
        "    else:\n",
        "        print('Checking accuracy on test set')   \n",
        "    num_correct = 0\n",
        "    num_samples = 0\n",
        "    model.eval()  # set model to evaluation mode\n",
        "    with torch.no_grad():\n",
        "        for x, y in loader:\n",
        "            x = x.to(device=device, dtype=dtype)  # move to device\n",
        "            y = y.to(device=device, dtype=torch.long)\n",
        "            scores = model(x)\n",
        "            _, preds = scores.max(1)\n",
        "            num_correct += (preds == y).sum()\n",
        "            num_samples += preds.size(0)\n",
        "        acc = float(num_correct) / num_samples\n",
        "        print('Got %d / %d correct (%.2f)' % (num_correct, num_samples, 100 * acc))\n",
        "\n",
        "\n",
        "def train_part(model, optimizer, epochs=1):\n",
        "    \"\"\"\n",
        "    Train a model on CIFAR-10 using the PyTorch Module API.\n",
        "    \n",
        "    Inputs:\n",
        "    - model: A PyTorch Module giving the model to train.\n",
        "    - optimizer: An Optimizer object we will use to train the model\n",
        "    - epochs: (Optional) A Python integer giving the number of epochs to train for\n",
        "    \n",
        "    Returns: Nothing, but prints model accuracies during training.\n",
        "    \"\"\"\n",
        "    model = model.to(device=device)  # move the model parameters to CPU/GPU\n",
        "    for e in range(epochs):\n",
        "        print(len(loader_train))\n",
        "        for t, (x, y) in enumerate(loader_train):\n",
        "            model.train()  # put model to training mode\n",
        "            x = x.to(device=device, dtype=dtype)  # move to device, e.g. GPU\n",
        "            y = y.to(device=device, dtype=torch.long)\n",
        "\n",
        "            scores = model(x)\n",
        "            loss = F.cross_entropy(scores, y)\n",
        "\n",
        "            # Zero out all of the gradients for the variables which the optimizer\n",
        "            # will update.\n",
        "            optimizer.zero_grad()\n",
        "\n",
        "            loss.backward()\n",
        "\n",
        "            # Update the parameters of the model using the gradients\n",
        "            optimizer.step()\n",
        "\n",
        "            if t % print_every == 0:\n",
        "                print('Epoch: %d, Iteration %d, loss = %.4f' % (e, t, loss.item()))\n",
        "                #check_accuracy(loader_val, model)\n",
        "                print()"
      ],
      "execution_count": 0,
      "outputs": []
    },
    {
      "metadata": {
        "colab_type": "code",
        "id": "no8o-2VS6X5y",
        "scrolled": false,
        "colab": {
          "base_uri": "https://localhost:8080/",
          "height": 1099
        },
        "outputId": "d454d404-73a3-459f-fdfa-d835d0eaa248"
      },
      "cell_type": "code",
      "source": [
        "# code for optimising your network performance\n",
        "\n",
        "##############################################################\n",
        "#                       YOUR CODE HERE                       #       \n",
        "##############################################################\n",
        "\n",
        "\n",
        "\n",
        "##############################################################\n",
        "#                       END OF YOUR CODE                     #\n",
        "##############################################################\n",
        "\n",
        "\n",
        "# define and train the network\n",
        "model = ResNet18()\n",
        "optimizer = optim.Adam(model.parameters())\n",
        "\n",
        "train_part(model, optimizer, epochs = 10)\n",
        "\n",
        "\n",
        "# report test set accuracy\n",
        "\n",
        "check_accuracy(loader_test, model)\n",
        "\n",
        "\n",
        "# save the model\n",
        "torch.save(model.state_dict(), 'model.pt')"
      ],
      "execution_count": 68,
      "outputs": [
        {
          "output_type": "stream",
          "text": [
            "766\n",
            "torch.Size([64, 64, 1024])\n"
          ],
          "name": "stdout"
        },
        {
          "output_type": "error",
          "ename": "RuntimeError",
          "evalue": "ignored",
          "traceback": [
            "\u001b[0;31m---------------------------------------------------------------------------\u001b[0m",
            "\u001b[0;31mRuntimeError\u001b[0m                              Traceback (most recent call last)",
            "\u001b[0;32m<ipython-input-68-074945b36862>\u001b[0m in \u001b[0;36m<module>\u001b[0;34m()\u001b[0m\n\u001b[1;32m      2\u001b[0m \u001b[0moptimizer\u001b[0m \u001b[0;34m=\u001b[0m \u001b[0moptim\u001b[0m\u001b[0;34m.\u001b[0m\u001b[0mAdam\u001b[0m\u001b[0;34m(\u001b[0m\u001b[0mmodel\u001b[0m\u001b[0;34m.\u001b[0m\u001b[0mparameters\u001b[0m\u001b[0;34m(\u001b[0m\u001b[0;34m)\u001b[0m\u001b[0;34m)\u001b[0m\u001b[0;34m\u001b[0m\u001b[0;34m\u001b[0m\u001b[0m\n\u001b[1;32m      3\u001b[0m \u001b[0;34m\u001b[0m\u001b[0m\n\u001b[0;32m----> 4\u001b[0;31m \u001b[0mtrain_part\u001b[0m\u001b[0;34m(\u001b[0m\u001b[0mmodel\u001b[0m\u001b[0;34m,\u001b[0m \u001b[0moptimizer\u001b[0m\u001b[0;34m,\u001b[0m \u001b[0mepochs\u001b[0m \u001b[0;34m=\u001b[0m \u001b[0;36m10\u001b[0m\u001b[0;34m)\u001b[0m\u001b[0;34m\u001b[0m\u001b[0;34m\u001b[0m\u001b[0m\n\u001b[0m\u001b[1;32m      5\u001b[0m \u001b[0;34m\u001b[0m\u001b[0m\n\u001b[1;32m      6\u001b[0m \u001b[0;34m\u001b[0m\u001b[0m\n",
            "\u001b[0;32m<ipython-input-67-d0059470e914>\u001b[0m in \u001b[0;36mtrain_part\u001b[0;34m(model, optimizer, epochs)\u001b[0m\n\u001b[1;32m     40\u001b[0m             \u001b[0my\u001b[0m \u001b[0;34m=\u001b[0m \u001b[0my\u001b[0m\u001b[0;34m.\u001b[0m\u001b[0mto\u001b[0m\u001b[0;34m(\u001b[0m\u001b[0mdevice\u001b[0m\u001b[0;34m=\u001b[0m\u001b[0mdevice\u001b[0m\u001b[0;34m,\u001b[0m \u001b[0mdtype\u001b[0m\u001b[0;34m=\u001b[0m\u001b[0mtorch\u001b[0m\u001b[0;34m.\u001b[0m\u001b[0mlong\u001b[0m\u001b[0;34m)\u001b[0m\u001b[0;34m\u001b[0m\u001b[0;34m\u001b[0m\u001b[0m\n\u001b[1;32m     41\u001b[0m \u001b[0;34m\u001b[0m\u001b[0m\n\u001b[0;32m---> 42\u001b[0;31m             \u001b[0mscores\u001b[0m \u001b[0;34m=\u001b[0m \u001b[0mmodel\u001b[0m\u001b[0;34m(\u001b[0m\u001b[0mx\u001b[0m\u001b[0;34m)\u001b[0m\u001b[0;34m\u001b[0m\u001b[0;34m\u001b[0m\u001b[0m\n\u001b[0m\u001b[1;32m     43\u001b[0m             \u001b[0mloss\u001b[0m \u001b[0;34m=\u001b[0m \u001b[0mF\u001b[0m\u001b[0;34m.\u001b[0m\u001b[0mcross_entropy\u001b[0m\u001b[0;34m(\u001b[0m\u001b[0mscores\u001b[0m\u001b[0;34m,\u001b[0m \u001b[0my\u001b[0m\u001b[0;34m)\u001b[0m\u001b[0;34m\u001b[0m\u001b[0;34m\u001b[0m\u001b[0m\n\u001b[1;32m     44\u001b[0m \u001b[0;34m\u001b[0m\u001b[0m\n",
            "\u001b[0;32m/usr/local/lib/python3.6/dist-packages/torch/nn/modules/module.py\u001b[0m in \u001b[0;36m__call__\u001b[0;34m(self, *input, **kwargs)\u001b[0m\n\u001b[1;32m    487\u001b[0m             \u001b[0mresult\u001b[0m \u001b[0;34m=\u001b[0m \u001b[0mself\u001b[0m\u001b[0;34m.\u001b[0m\u001b[0m_slow_forward\u001b[0m\u001b[0;34m(\u001b[0m\u001b[0;34m*\u001b[0m\u001b[0minput\u001b[0m\u001b[0;34m,\u001b[0m \u001b[0;34m**\u001b[0m\u001b[0mkwargs\u001b[0m\u001b[0;34m)\u001b[0m\u001b[0;34m\u001b[0m\u001b[0;34m\u001b[0m\u001b[0m\n\u001b[1;32m    488\u001b[0m         \u001b[0;32melse\u001b[0m\u001b[0;34m:\u001b[0m\u001b[0;34m\u001b[0m\u001b[0;34m\u001b[0m\u001b[0m\n\u001b[0;32m--> 489\u001b[0;31m             \u001b[0mresult\u001b[0m \u001b[0;34m=\u001b[0m \u001b[0mself\u001b[0m\u001b[0;34m.\u001b[0m\u001b[0mforward\u001b[0m\u001b[0;34m(\u001b[0m\u001b[0;34m*\u001b[0m\u001b[0minput\u001b[0m\u001b[0;34m,\u001b[0m \u001b[0;34m**\u001b[0m\u001b[0mkwargs\u001b[0m\u001b[0;34m)\u001b[0m\u001b[0;34m\u001b[0m\u001b[0;34m\u001b[0m\u001b[0m\n\u001b[0m\u001b[1;32m    490\u001b[0m         \u001b[0;32mfor\u001b[0m \u001b[0mhook\u001b[0m \u001b[0;32min\u001b[0m \u001b[0mself\u001b[0m\u001b[0;34m.\u001b[0m\u001b[0m_forward_hooks\u001b[0m\u001b[0;34m.\u001b[0m\u001b[0mvalues\u001b[0m\u001b[0;34m(\u001b[0m\u001b[0;34m)\u001b[0m\u001b[0;34m:\u001b[0m\u001b[0;34m\u001b[0m\u001b[0;34m\u001b[0m\u001b[0m\n\u001b[1;32m    491\u001b[0m             \u001b[0mhook_result\u001b[0m \u001b[0;34m=\u001b[0m \u001b[0mhook\u001b[0m\u001b[0;34m(\u001b[0m\u001b[0mself\u001b[0m\u001b[0;34m,\u001b[0m \u001b[0minput\u001b[0m\u001b[0;34m,\u001b[0m \u001b[0mresult\u001b[0m\u001b[0;34m)\u001b[0m\u001b[0;34m\u001b[0m\u001b[0;34m\u001b[0m\u001b[0m\n",
            "\u001b[0;32m<ipython-input-65-9a8cc825df9f>\u001b[0m in \u001b[0;36mforward\u001b[0;34m(self, x)\u001b[0m\n\u001b[1;32m     37\u001b[0m     \u001b[0;32mdef\u001b[0m \u001b[0mforward\u001b[0m\u001b[0;34m(\u001b[0m\u001b[0mself\u001b[0m\u001b[0;34m,\u001b[0m \u001b[0mx\u001b[0m\u001b[0;34m)\u001b[0m\u001b[0;34m:\u001b[0m\u001b[0;34m\u001b[0m\u001b[0;34m\u001b[0m\u001b[0m\n\u001b[1;32m     38\u001b[0m \u001b[0;34m\u001b[0m\u001b[0m\n\u001b[0;32m---> 39\u001b[0;31m         \u001b[0mx\u001b[0m \u001b[0;34m=\u001b[0m \u001b[0mself\u001b[0m\u001b[0;34m.\u001b[0m\u001b[0mconv1\u001b[0m\u001b[0;34m(\u001b[0m\u001b[0mx\u001b[0m\u001b[0;34m)\u001b[0m\u001b[0;34m\u001b[0m\u001b[0;34m\u001b[0m\u001b[0m\n\u001b[0m\u001b[1;32m     40\u001b[0m \u001b[0;34m\u001b[0m\u001b[0m\n\u001b[1;32m     41\u001b[0m         \u001b[0mx\u001b[0m \u001b[0;34m=\u001b[0m \u001b[0mself\u001b[0m\u001b[0;34m.\u001b[0m\u001b[0mlayer1\u001b[0m\u001b[0;34m(\u001b[0m\u001b[0mx\u001b[0m\u001b[0;34m)\u001b[0m\u001b[0;34m\u001b[0m\u001b[0;34m\u001b[0m\u001b[0m\n",
            "\u001b[0;32m/usr/local/lib/python3.6/dist-packages/torch/nn/modules/module.py\u001b[0m in \u001b[0;36m__call__\u001b[0;34m(self, *input, **kwargs)\u001b[0m\n\u001b[1;32m    487\u001b[0m             \u001b[0mresult\u001b[0m \u001b[0;34m=\u001b[0m \u001b[0mself\u001b[0m\u001b[0;34m.\u001b[0m\u001b[0m_slow_forward\u001b[0m\u001b[0;34m(\u001b[0m\u001b[0;34m*\u001b[0m\u001b[0minput\u001b[0m\u001b[0;34m,\u001b[0m \u001b[0;34m**\u001b[0m\u001b[0mkwargs\u001b[0m\u001b[0;34m)\u001b[0m\u001b[0;34m\u001b[0m\u001b[0;34m\u001b[0m\u001b[0m\n\u001b[1;32m    488\u001b[0m         \u001b[0;32melse\u001b[0m\u001b[0;34m:\u001b[0m\u001b[0;34m\u001b[0m\u001b[0;34m\u001b[0m\u001b[0m\n\u001b[0;32m--> 489\u001b[0;31m             \u001b[0mresult\u001b[0m \u001b[0;34m=\u001b[0m \u001b[0mself\u001b[0m\u001b[0;34m.\u001b[0m\u001b[0mforward\u001b[0m\u001b[0;34m(\u001b[0m\u001b[0;34m*\u001b[0m\u001b[0minput\u001b[0m\u001b[0;34m,\u001b[0m \u001b[0;34m**\u001b[0m\u001b[0mkwargs\u001b[0m\u001b[0;34m)\u001b[0m\u001b[0;34m\u001b[0m\u001b[0;34m\u001b[0m\u001b[0m\n\u001b[0m\u001b[1;32m    490\u001b[0m         \u001b[0;32mfor\u001b[0m \u001b[0mhook\u001b[0m \u001b[0;32min\u001b[0m \u001b[0mself\u001b[0m\u001b[0;34m.\u001b[0m\u001b[0m_forward_hooks\u001b[0m\u001b[0;34m.\u001b[0m\u001b[0mvalues\u001b[0m\u001b[0;34m(\u001b[0m\u001b[0;34m)\u001b[0m\u001b[0;34m:\u001b[0m\u001b[0;34m\u001b[0m\u001b[0;34m\u001b[0m\u001b[0m\n\u001b[1;32m    491\u001b[0m             \u001b[0mhook_result\u001b[0m \u001b[0;34m=\u001b[0m \u001b[0mhook\u001b[0m\u001b[0;34m(\u001b[0m\u001b[0mself\u001b[0m\u001b[0;34m,\u001b[0m \u001b[0minput\u001b[0m\u001b[0;34m,\u001b[0m \u001b[0mresult\u001b[0m\u001b[0;34m)\u001b[0m\u001b[0;34m\u001b[0m\u001b[0;34m\u001b[0m\u001b[0m\n",
            "\u001b[0;32m/usr/local/lib/python3.6/dist-packages/torch/nn/modules/container.py\u001b[0m in \u001b[0;36mforward\u001b[0;34m(self, input)\u001b[0m\n\u001b[1;32m     90\u001b[0m     \u001b[0;32mdef\u001b[0m \u001b[0mforward\u001b[0m\u001b[0;34m(\u001b[0m\u001b[0mself\u001b[0m\u001b[0;34m,\u001b[0m \u001b[0minput\u001b[0m\u001b[0;34m)\u001b[0m\u001b[0;34m:\u001b[0m\u001b[0;34m\u001b[0m\u001b[0;34m\u001b[0m\u001b[0m\n\u001b[1;32m     91\u001b[0m         \u001b[0;32mfor\u001b[0m \u001b[0mmodule\u001b[0m \u001b[0;32min\u001b[0m \u001b[0mself\u001b[0m\u001b[0;34m.\u001b[0m\u001b[0m_modules\u001b[0m\u001b[0;34m.\u001b[0m\u001b[0mvalues\u001b[0m\u001b[0;34m(\u001b[0m\u001b[0;34m)\u001b[0m\u001b[0;34m:\u001b[0m\u001b[0;34m\u001b[0m\u001b[0;34m\u001b[0m\u001b[0m\n\u001b[0;32m---> 92\u001b[0;31m             \u001b[0minput\u001b[0m \u001b[0;34m=\u001b[0m \u001b[0mmodule\u001b[0m\u001b[0;34m(\u001b[0m\u001b[0minput\u001b[0m\u001b[0;34m)\u001b[0m\u001b[0;34m\u001b[0m\u001b[0;34m\u001b[0m\u001b[0m\n\u001b[0m\u001b[1;32m     93\u001b[0m         \u001b[0;32mreturn\u001b[0m \u001b[0minput\u001b[0m\u001b[0;34m\u001b[0m\u001b[0;34m\u001b[0m\u001b[0m\n\u001b[1;32m     94\u001b[0m \u001b[0;34m\u001b[0m\u001b[0m\n",
            "\u001b[0;32m/usr/local/lib/python3.6/dist-packages/torch/nn/modules/module.py\u001b[0m in \u001b[0;36m__call__\u001b[0;34m(self, *input, **kwargs)\u001b[0m\n\u001b[1;32m    487\u001b[0m             \u001b[0mresult\u001b[0m \u001b[0;34m=\u001b[0m \u001b[0mself\u001b[0m\u001b[0;34m.\u001b[0m\u001b[0m_slow_forward\u001b[0m\u001b[0;34m(\u001b[0m\u001b[0;34m*\u001b[0m\u001b[0minput\u001b[0m\u001b[0;34m,\u001b[0m \u001b[0;34m**\u001b[0m\u001b[0mkwargs\u001b[0m\u001b[0;34m)\u001b[0m\u001b[0;34m\u001b[0m\u001b[0;34m\u001b[0m\u001b[0m\n\u001b[1;32m    488\u001b[0m         \u001b[0;32melse\u001b[0m\u001b[0;34m:\u001b[0m\u001b[0;34m\u001b[0m\u001b[0;34m\u001b[0m\u001b[0m\n\u001b[0;32m--> 489\u001b[0;31m             \u001b[0mresult\u001b[0m \u001b[0;34m=\u001b[0m \u001b[0mself\u001b[0m\u001b[0;34m.\u001b[0m\u001b[0mforward\u001b[0m\u001b[0;34m(\u001b[0m\u001b[0;34m*\u001b[0m\u001b[0minput\u001b[0m\u001b[0;34m,\u001b[0m \u001b[0;34m**\u001b[0m\u001b[0mkwargs\u001b[0m\u001b[0;34m)\u001b[0m\u001b[0;34m\u001b[0m\u001b[0;34m\u001b[0m\u001b[0m\n\u001b[0m\u001b[1;32m    490\u001b[0m         \u001b[0;32mfor\u001b[0m \u001b[0mhook\u001b[0m \u001b[0;32min\u001b[0m \u001b[0mself\u001b[0m\u001b[0;34m.\u001b[0m\u001b[0m_forward_hooks\u001b[0m\u001b[0;34m.\u001b[0m\u001b[0mvalues\u001b[0m\u001b[0;34m(\u001b[0m\u001b[0;34m)\u001b[0m\u001b[0;34m:\u001b[0m\u001b[0;34m\u001b[0m\u001b[0;34m\u001b[0m\u001b[0m\n\u001b[1;32m    491\u001b[0m             \u001b[0mhook_result\u001b[0m \u001b[0;34m=\u001b[0m \u001b[0mhook\u001b[0m\u001b[0;34m(\u001b[0m\u001b[0mself\u001b[0m\u001b[0;34m,\u001b[0m \u001b[0minput\u001b[0m\u001b[0;34m,\u001b[0m \u001b[0mresult\u001b[0m\u001b[0;34m)\u001b[0m\u001b[0;34m\u001b[0m\u001b[0;34m\u001b[0m\u001b[0m\n",
            "\u001b[0;32m<ipython-input-62-96523a586b12>\u001b[0m in \u001b[0;36mforward\u001b[0;34m(self, x)\u001b[0m\n\u001b[1;32m     45\u001b[0m \u001b[0;34m\u001b[0m\u001b[0m\n\u001b[1;32m     46\u001b[0m \u001b[0;34m\u001b[0m\u001b[0m\n\u001b[0;32m---> 47\u001b[0;31m         \u001b[0moutput\u001b[0m \u001b[0;34m=\u001b[0m \u001b[0mout_unf\u001b[0m\u001b[0;34m.\u001b[0m\u001b[0mview\u001b[0m\u001b[0;34m(\u001b[0m\u001b[0mbatch_size\u001b[0m\u001b[0;34m,\u001b[0m \u001b[0mself\u001b[0m\u001b[0;34m.\u001b[0m\u001b[0moutchannel\u001b[0m\u001b[0;34m,\u001b[0m \u001b[0moutput_width\u001b[0m\u001b[0;34m,\u001b[0m \u001b[0moutput_length\u001b[0m\u001b[0;34m)\u001b[0m\u001b[0;34m\u001b[0m\u001b[0;34m\u001b[0m\u001b[0m\n\u001b[0m\u001b[1;32m     48\u001b[0m \u001b[0;34m\u001b[0m\u001b[0m\n\u001b[1;32m     49\u001b[0m \u001b[0;34m\u001b[0m\u001b[0m\n",
            "\u001b[0;31mRuntimeError\u001b[0m: shape '[64, 64, 32, 32]' is invalid for input of size 112"
          ]
        }
      ]
    },
    {
      "metadata": {
        "colab_type": "code",
        "id": "A4tlP5xvDhM9",
        "colab": {}
      },
      "cell_type": "code",
      "source": [
        "## Part 3 (20 points)"
      ],
      "execution_count": 0,
      "outputs": []
    },
    {
      "metadata": {
        "id": "H-HNVe5w2RMo",
        "colab_type": "text"
      },
      "cell_type": "markdown",
      "source": [
        "The code provided below will allow you to visualise the feature maps computed by different layers of your network. Run the code (install matplotlib if necessary) and **answer the following questions**: \n",
        "\n",
        "1. Compare the feature maps from low-level layers to high-level layers, what do you observe? \n",
        "\n",
        "2. Use the training log, reported test set accuracy and the feature maps, analyse the performance of your network. If you think the performance is sufficiently good, explain why; if not, what might be the problem and how can you improve the performance?\n",
        "\n",
        "3. What are the other possible ways to analyse the performance of your network?"
      ]
    },
    {
      "metadata": {
        "id": "NcJjVI1F2RMp",
        "colab_type": "text"
      },
      "cell_type": "markdown",
      "source": [
        "**YOUR ANSWER FOR PART 3 HERE**\n",
        "\n",
        "A:"
      ]
    },
    {
      "metadata": {
        "id": "lYbgNXy12RMr",
        "colab_type": "code",
        "colab": {}
      },
      "cell_type": "code",
      "source": [
        "#!pip install matplotlib\n",
        "\n",
        "import matplotlib.pyplot as plt\n",
        "\n",
        "plt.tight_layout()\n",
        "\n",
        "\n",
        "activation = {}\n",
        "def get_activation(name):\n",
        "    def hook(model, input, output):\n",
        "        activation[name] = output.detach()\n",
        "    return hook\n",
        "\n",
        "vis_labels = ['conv1', 'layer1', 'layer2', 'layer3', 'layer4']\n",
        "\n",
        "for l in vis_labels:\n",
        "\n",
        "    getattr(model, l).register_forward_hook(get_activation(l))\n",
        "    \n",
        "    \n",
        "data, _ = cifar10_test[0]\n",
        "data = data.unsqueeze_(0).to(device = device, dtype = dtype)\n",
        "\n",
        "output = model(data)\n",
        "\n",
        "\n",
        "\n",
        "for idx, l in enumerate(vis_labels):\n",
        "\n",
        "    act = activation[l].squeeze()\n",
        "\n",
        "    if idx < 2:\n",
        "        ncols = 8\n",
        "    else:\n",
        "        ncols = 32\n",
        "        \n",
        "    nrows = act.size(0) // ncols\n",
        "    \n",
        "    fig, axarr = plt.subplots(nrows, ncols)\n",
        "    fig.suptitle(l)\n",
        "\n",
        "\n",
        "    for i in range(nrows):\n",
        "        for j in range(ncols):\n",
        "            axarr[i, j].imshow(act[i * nrows + j].cpu())\n",
        "            axarr[i, j].axis('off')"
      ],
      "execution_count": 0,
      "outputs": []
    },
    {
      "metadata": {
        "id": "sn0mHqow2RMx",
        "colab_type": "text"
      },
      "cell_type": "markdown",
      "source": [
        "**=============== END OF CW2 ===============**"
      ]
    }
  ]
}